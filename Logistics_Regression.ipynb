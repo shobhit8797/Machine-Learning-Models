{
  "nbformat": 4,
  "nbformat_minor": 0,
  "metadata": {
    "colab": {
      "name": "Logistics Regression.ipynb",
      "provenance": [],
      "authorship_tag": "ABX9TyNX9UVp3zXRHqdOkX5P5ccP",
      "include_colab_link": true
    },
    "kernelspec": {
      "name": "python3",
      "display_name": "Python 3"
    },
    "language_info": {
      "name": "python"
    }
  },
  "cells": [
    {
      "cell_type": "markdown",
      "metadata": {
        "id": "view-in-github",
        "colab_type": "text"
      },
      "source": [
        "<a href=\"https://colab.research.google.com/github/shobhitgoyal2002/Machine-Learning-Models/blob/main/Logistics_Regression.ipynb\" target=\"_parent\"><img src=\"https://colab.research.google.com/assets/colab-badge.svg\" alt=\"Open In Colab\"/></a>"
      ]
    },
    {
      "cell_type": "code",
      "source": [
        "import numpy as np\n",
        "import seaborn as sns"
      ],
      "metadata": {
        "id": "eQ1Gr3i5hcks"
      },
      "execution_count": null,
      "outputs": []
    },
    {
      "cell_type": "markdown",
      "source": [
        "### Logistic regression for linearly separable binary classification"
      ],
      "metadata": {
        "id": "5AhJyUd5tx4I"
      }
    },
    {
      "cell_type": "code",
      "execution_count": null,
      "metadata": {
        "id": "SkRJMU1AtOc_"
      },
      "outputs": [],
      "source": [
        "def create_toy_data():\n",
        "    x0 = np.random.normal(size=50).reshape(-1,2) - 1\n",
        "    x1 = np.random.normal(size=50).reshape(-1,2) + 1\n",
        "    return np.concatenate([x0, x1]), np.concatenate([np.zeros(25), np.ones(25)]).astype(np.int)"
      ]
    },
    {
      "cell_type": "code",
      "source": [
        "feature_matrix, label_vector = create_toy_data()\n",
        "print(\"Shape of feature matrix:\", feature_matrix.shape)\n",
        "print(\"shape of label vector:\", label_vector.shape)"
      ],
      "metadata": {
        "id": "9EHDJEq8vfPa",
        "colab": {
          "base_uri": "https://localhost:8080/"
        },
        "outputId": "244805fc-0fc7-490d-b1cf-2f666eb92920"
      },
      "execution_count": null,
      "outputs": [
        {
          "output_type": "stream",
          "name": "stdout",
          "text": [
            "Shape of feature matrix: (50, 2)\n",
            "shape of label vector: (50,)\n"
          ]
        },
        {
          "output_type": "stream",
          "name": "stderr",
          "text": [
            "/usr/local/lib/python3.7/dist-packages/ipykernel_launcher.py:4: DeprecationWarning: `np.int` is a deprecated alias for the builtin `int`. To silence this warning, use `int` by itself. Doing this will not modify any behavior and is safe. When replacing `np.int`, you may wish to use e.g. `np.int64` or `np.int32` to specify the precision. If you wish to review your current use, check the release note link for additional information.\n",
            "Deprecated in NumPy 1.20; for more details and guidance: https://numpy.org/devdocs/release/1.20.0-notes.html#deprecations\n",
            "  after removing the cwd from sys.path.\n"
          ]
        }
      ]
    },
    {
      "cell_type": "code",
      "source": [
        "assert feature_matrix.shape[0] == label_vector.shape[0]"
      ],
      "metadata": {
        "id": "YAQUppojv_d2"
      },
      "execution_count": null,
      "outputs": []
    },
    {
      "cell_type": "code",
      "source": [
        "def activation(x, w):\n",
        "    return 1 / (1 + np.exp(-1* x @ w))"
      ],
      "metadata": {
        "id": "MWYLvDZMhXym"
      },
      "execution_count": null,
      "outputs": []
    },
    {
      "cell_type": "code",
      "source": [
        "def predict(X, w, threshold=0.5):\n",
        "    return np.where(activation(X, w) > threshold, 1, 0)"
      ],
      "metadata": {
        "id": "KiWe_Ic8ivYs"
      },
      "execution_count": null,
      "outputs": []
    },
    {
      "cell_type": "code",
      "source": [
        "X = np.array([[1,20,2],[1,2,2]])\n",
        "w = np.array([-1,0,1])\n",
        "class_labels = predict(X, w, threshold=0.5)\n",
        "print(class_labels)"
      ],
      "metadata": {
        "colab": {
          "base_uri": "https://localhost:8080/"
        },
        "id": "-XULPCizjEJj",
        "outputId": "e4fd20a9-ac68-4ac5-bc90-d2a20e9d5b85"
      },
      "execution_count": null,
      "outputs": [
        {
          "output_type": "stream",
          "name": "stdout",
          "text": [
            "[1 1]\n"
          ]
        }
      ]
    },
    {
      "cell_type": "markdown",
      "source": [
        "Setting both L1 and L2 regularization rates such that their sum equals 1, allows to perform elastic regularization. If either/both regularization isn't needed, set the corresponding rates to 0."
      ],
      "metadata": {
        "id": "3DUS_iW1r51Z"
      }
    },
    {
      "cell_type": "code",
      "source": [
        "def loss(y,sigmoid_vector, weight_vector, l1_reg_rate=0, l2_reg_rate=0):\n",
        "    loss = -1 * np.sum((y* np.log(sigmoid_vector)) + ((1-y) * np.log(1-sigmoid_vector)))\n",
        "    l2_reg = l2_reg_rate * np.dot(weight_vector.T, weight_vector)\n",
        "    l1_reg = l1_reg_rate * np.sum(np.abs(weight_vector))\n",
        "    return loss + l1_reg + l2_reg"
      ],
      "metadata": {
        "id": "qBqqRD2hjG0m"
      },
      "execution_count": null,
      "outputs": []
    },
    {
      "cell_type": "code",
      "source": [
        "def calculate_gradient(X, y, w, reg_rate):\n",
        "    return X.T @ (activation(X,w)-y) + reg_rate * w"
      ],
      "metadata": {
        "id": "GqqdDipgrz5P"
      },
      "execution_count": null,
      "outputs": []
    },
    {
      "cell_type": "code",
      "source": [
        "class LogisticRegression()1:\n",
        "    def set_weight_vector(self, w):\n",
        "        self.w = w\n",
        "    \n",
        "    def linear_combination(self, X):\n",
        "        return X @ self.w\n",
        "    \n",
        "    def sigmoid(self, z)"
      ],
      "metadata": {
        "id": "Thi-Ja7yvfWo"
      },
      "execution_count": null,
      "outputs": []
    }
  ]
}
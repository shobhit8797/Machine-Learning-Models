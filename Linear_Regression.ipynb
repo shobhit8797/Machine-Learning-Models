{
  "nbformat": 4,
  "nbformat_minor": 0,
  "metadata": {
    "colab": {
      "name": "Linear Regression.ipynb",
      "provenance": [],
      "authorship_tag": "ABX9TyMj67s5UYKFhGOpND0F7uN5",
      "include_colab_link": true
    },
    "kernelspec": {
      "name": "python3",
      "display_name": "Python 3"
    },
    "language_info": {
      "name": "python"
    }
  },
  "cells": [
    {
      "cell_type": "markdown",
      "metadata": {
        "id": "view-in-github",
        "colab_type": "text"
      },
      "source": [
        "<a href=\"https://colab.research.google.com/github/shobhitgoyal2002/Machine-Learning-Models/blob/main/Linear_Regression.ipynb\" target=\"_parent\"><img src=\"https://colab.research.google.com/assets/colab-badge.svg\" alt=\"Open In Colab\"/></a>"
      ]
    },
    {
      "cell_type": "code",
      "execution_count": 4,
      "metadata": {
        "id": "1JQHOn6xWXod"
      },
      "outputs": [],
      "source": [
        "import numpy as np\n",
        "import seaborn as sns\n",
        "import matplotlib.pyplot as plt\n",
        "from sklearn.model_selection import train_test_split"
      ]
    },
    {
      "cell_type": "code",
      "source": [
        "w0 = 3\n",
        "w1 = 4\n",
        "n = 100"
      ],
      "metadata": {
        "id": "p7BgTUl8Zoga"
      },
      "execution_count": 5,
      "outputs": []
    },
    {
      "cell_type": "code",
      "source": [
        "def generate_examples(n):\n",
        "    X = 10 * np.random.random(n,)\n",
        "    y = w0 + w1 * X\n",
        "    return X,y\n",
        "\n",
        "def add_dummy_feature(X):\n",
        "    return np.column_stack((np.ones(X.shape[0]), X))\n",
        "def preprocess(X,y):\n",
        "    X_train, X_test, y_train, y_test = train_test_split(X,y,test_size = 0.2, random_state = 42)\n",
        "    X_train = add_dummy_feature(X_train)\n",
        "    return X_train, X_test, y_train, y_test\n",
        "\n",
        "def plotdata(X,y):\n",
        "    plt.figure(figsize=(8,8))\n",
        "    sns.scatterplot(x = X, y =y)"
      ],
      "metadata": {
        "id": "cWn2wvjpW3jX"
      },
      "execution_count": 6,
      "outputs": []
    },
    {
      "cell_type": "code",
      "source": [
        "def predict(X, w):\n",
        "    if X.shape[1] == w.shape[0]:\n",
        "        return X @ w\n",
        "    else:\n",
        "        return None\n",
        "\n",
        "def loss(X, y, w=None):\n",
        "    if w is None:\n",
        "        w = np.zeros(X.shape[1])\n",
        "    e = X @ w - y\n",
        "    return 0.5 * (e.T @ e)\n",
        "\n",
        "def rmse(X, y):\n",
        "    return np.sqrt(2/X.shape[0] * loss(X, y))"
      ],
      "metadata": {
        "id": "LzNtyPPyfPV2"
      },
      "execution_count": 7,
      "outputs": []
    },
    {
      "cell_type": "code",
      "source": [
        "X, y = generate_examples(100)\n",
        "X_train, X_test, y_train, y_test = preprocess(X,y)\n",
        "y_hat =  predict (X_train, np.random.rand(2,))\n",
        "y_hat"
      ],
      "metadata": {
        "colab": {
          "base_uri": "https://localhost:8080/"
        },
        "id": "9CuaHu0hhvHJ",
        "outputId": "e4aea1e2-dee5-4bbe-ae65-d7f203852b60"
      },
      "execution_count": 8,
      "outputs": [
        {
          "output_type": "execute_result",
          "data": {
            "text/plain": [
              "array([7.79164014, 3.93591422, 6.51957162, 6.20096535, 8.51883759,\n",
              "       7.37980587, 2.62921461, 2.73125889, 1.26140332, 7.42992129,\n",
              "       7.05901023, 4.89302819, 2.62855741, 9.07070414, 4.59029436,\n",
              "       8.73106124, 5.6883282 , 3.3099028 , 8.38821798, 3.79424966,\n",
              "       8.97630691, 3.85034696, 5.54769679, 8.12146764, 3.5157667 ,\n",
              "       5.99571832, 7.61495992, 2.5098437 , 6.65551668, 0.92038713,\n",
              "       5.50516071, 3.67282191, 2.72358271, 7.57878701, 8.95831745,\n",
              "       2.08297868, 8.46404134, 2.74773196, 6.86573488, 5.99289323,\n",
              "       8.10885765, 5.20767189, 4.92779762, 2.71895159, 6.35009427,\n",
              "       2.15181315, 2.11958077, 2.85630335, 7.13191462, 3.81418001,\n",
              "       2.17808933, 7.37689067, 4.42979269, 8.09229625, 3.94512649,\n",
              "       8.39077442, 6.67975582, 6.55668093, 5.971382  , 4.63700651,\n",
              "       0.98621377, 1.40629049, 4.1521482 , 6.25830778, 2.6828224 ,\n",
              "       2.22484853, 7.88364527, 7.60199284, 6.81495935, 5.00444586,\n",
              "       1.24710709, 7.16363425, 8.8254658 , 7.25094599, 1.21323362,\n",
              "       1.71708609, 5.81221383, 1.08067555, 4.1618626 , 2.88823195])"
            ]
          },
          "metadata": {},
          "execution_count": 8
        }
      ]
    },
    {
      "cell_type": "code",
      "source": [
        "X = np.array([[1,3,2,5],[1,9,4,7]])\n",
        "y = np.array([6,11])\n",
        "w = np.array([1,1,1,1])\n",
        "\n",
        "loss(X, y,w)"
      ],
      "metadata": {
        "colab": {
          "base_uri": "https://localhost:8080/"
        },
        "id": "ZQ1C8k1rig6V",
        "outputId": "d7d98ffe-bd5f-4cf6-cd2c-734b571919a4"
      },
      "execution_count": 9,
      "outputs": [
        {
          "output_type": "execute_result",
          "data": {
            "text/plain": [
              "62.5"
            ]
          },
          "metadata": {},
          "execution_count": 9
        }
      ]
    },
    {
      "cell_type": "code",
      "source": [
        "lr=0.0001\n",
        "def normal_equation(X, y):\n",
        "    return np.linalg.pinv(X) @ y\n",
        "def calculate_gradient(X, y, w):\n",
        "    return np.transpose(X) @ (predict(X,w) - y)"
      ],
      "metadata": {
        "id": "M7tKzy9s5o4w"
      },
      "execution_count": 10,
      "outputs": []
    },
    {
      "cell_type": "code",
      "source": [
        "def weight_update(w,lr, g):\n",
        "    return w - lr * g\n",
        "\n",
        "def gradient_descent(X,y, epochs):\n",
        "    losses = list()\n",
        "    weights = list()\n",
        "    w = np.zeros(X.shape[1])\n",
        "    for i in range(epochs):\n",
        "        l = loss(X_train, y_train, w)\n",
        "        losses.append(l)\n",
        "        g = calculate_gradient(X, y, w)\n",
        "        w = weight_update(w, lr, g)\n",
        "        weights.append(w)\n",
        "    return weights, losses"
      ],
      "metadata": {
        "id": "r1uVQErj6qzG"
      },
      "execution_count": 11,
      "outputs": []
    },
    {
      "cell_type": "code",
      "source": [
        "def plot_learning_curves(losses):\n",
        "    plt.plot(losses)"
      ],
      "metadata": {
        "id": "ib_Aeb0FOUeB"
      },
      "execution_count": 12,
      "outputs": []
    },
    {
      "cell_type": "code",
      "source": [
        "epochs = 10000\n",
        "weights, losses = gradient_descent(X_train, y_train, epochs)\n",
        "weights[-1]# last weight from the <epochs> trials."
      ],
      "metadata": {
        "colab": {
          "base_uri": "https://localhost:8080/"
        },
        "id": "c2xJa0FkOksK",
        "outputId": "ed88b0f3-e756-4c01-ab3e-56d0da961aa7"
      },
      "execution_count": 13,
      "outputs": [
        {
          "output_type": "execute_result",
          "data": {
            "text/plain": [
              "array([2.99999999, 4.        ])"
            ]
          },
          "metadata": {},
          "execution_count": 13
        }
      ]
    },
    {
      "cell_type": "code",
      "source": [
        "plot_learning_curves(losses)"
      ],
      "metadata": {
        "colab": {
          "base_uri": "https://localhost:8080/",
          "height": 265
        },
        "id": "NdYQ0O7uOlep",
        "outputId": "60f2df43-479f-4b3b-9208-2c2c4a30b886"
      },
      "execution_count": 14,
      "outputs": [
        {
          "output_type": "display_data",
          "data": {
            "text/plain": [
              "<Figure size 432x288 with 1 Axes>"
            ],
            "image/png": "[encoded data removed]"
          },
          "metadata": {
            "needs_background": "light"
          }
        }
      ]
    },
    {
      "cell_type": "code",
      "source": [
        "# Stochastic Gradient Descent(SGD)\n",
        "\n",
        "t1, t2 = 200, 10000\n",
        "def learning_schedule(t):\n",
        "    return t1 / (t + t2)\n",
        "\n",
        "\n",
        "def sgd(X, y, iter):\n",
        "    t = 0\n",
        "    w = np.zeros(X.shape[1])\n",
        "    weights, losses = list(), list()\n",
        "\n",
        "    for i in range(iter):\n",
        "        shuffled_indices = np.random.permutation(X.shape[0])\n",
        "        X_shuffled = X[shuffled_indices]\n",
        "        y_shuffled = y[shuffled_indices]\n",
        "\n",
        "        for i in range(0, X.shape[0], mini_batch_size):\n",
        "            t += 1\n",
        "            x1 = X_shuffled[i:i+1]\n",
        "            y1 = y_shuffled[i:i+1]\n",
        "\n",
        "            l = loss(x1, y1, w)\n",
        "            losses.append(l)\n",
        "\n",
        "            g = 2/ mini_batch_size * calculate_gradient(x1, y1, w)\n",
        "            w = weight_update(w, learning_schedule(t), g)\n",
        "            weights.append(w)\n",
        "    \n",
        "    return weights, losses"
      ],
      "metadata": {
        "id": "rrsVr2CdPaAk"
      },
      "execution_count": 15,
      "outputs": []
    },
    {
      "cell_type": "code",
      "source": [
        "mini_batch_size = 1\n",
        "iterations = 20\n",
        "\n",
        "X,y = generate_examples(100)\n",
        "\n",
        "X_train, X_test, y_train, y_test = preprocess(X,y)\n",
        "weights, losses = sgd(X_train, y_train, iterations)"
      ],
      "metadata": {
        "id": "83bVKQZDM6-R"
      },
      "execution_count": 18,
      "outputs": []
    },
    {
      "cell_type": "code",
      "source": [
        "plot_learning_curves(losses)"
      ],
      "metadata": {
        "colab": {
          "base_uri": "https://localhost:8080/",
          "height": 265
        },
        "id": "CotHlZBaSxfn",
        "outputId": "4676c25d-b00d-4e5b-c138-2485dadb4e3e"
      },
      "execution_count": 19,
      "outputs": [
        {
          "output_type": "display_data",
          "data": {
            "text/plain": [
              "<Figure size 432x288 with 1 Axes>"
            ],
            "image/png": "[encoded data removed]"
          },
          "metadata": {
            "needs_background": "light"
          }
        }
      ]
    },
    {
      "cell_type": "code",
      "source": [
        ""
      ],
      "metadata": {
        "id": "KJ-a6gcATfVz"
      },
      "execution_count": null,
      "outputs": []
    }
  ]
}
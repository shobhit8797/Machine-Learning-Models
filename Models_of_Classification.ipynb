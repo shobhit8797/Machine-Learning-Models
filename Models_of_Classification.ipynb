{
  "nbformat": 4,
  "nbformat_minor": 0,
  "metadata": {
    "colab": {
      "name": "Models of Classification.ipynb",
      "provenance": [],
      "authorship_tag": "ABX9TyOqWbx+j3xaYXu/1yefpdVX",
      "include_colab_link": true
    },
    "kernelspec": {
      "name": "python3",
      "display_name": "Python 3"
    },
    "language_info": {
      "name": "python"
    }
  },
  "cells": [
    {
      "cell_type": "markdown",
      "metadata": {
        "id": "view-in-github",
        "colab_type": "text"
      },
      "source": [
        "<a href=\"https://colab.research.google.com/github/shobhitgoyal2002/Machine-Learning-Models/blob/main/Models_of_Classification.ipynb\" target=\"_parent\"><img src=\"https://colab.research.google.com/assets/colab-badge.svg\" alt=\"Open In Colab\"/></a>"
      ]
    },
    {
      "cell_type": "code",
      "source": [
        "def generate_data(n):\n",
        "    \n"
      ],
      "metadata": {
        "id": "uvZ2SA55QTnm"
      },
      "execution_count": null,
      "outputs": []
    },
    {
      "cell_type": "code",
      "execution_count": null,
      "metadata": {
        "id": "xef9oLCXQDBs"
      },
      "outputs": [],
      "source": [
        "class Classification():\n",
        "    def(self):"
      ]
    }
  ]
}